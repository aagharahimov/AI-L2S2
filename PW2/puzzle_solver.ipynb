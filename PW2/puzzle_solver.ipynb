{
 "cells": [
  {
   "cell_type": "code",
   "execution_count": 1,
   "metadata": {},
   "outputs": [],
   "source": [
    "from collections import deque\n",
    "\n",
    "goal_state = [1, 2, 3, 4, 5, 6, 7, 8, 0]\n",
    "\n",
    "# possible moves based on index\n",
    "MOVES = {\n",
    "    \"up\": -3, \n",
    "    \"down\": 3, \n",
    "    \"left\": -1, \n",
    "    \"right\": 1\n",
    "}"
   ]
  },
  {
   "cell_type": "code",
   "execution_count": 2,
   "metadata": {},
   "outputs": [],
   "source": [
    "# function to get valid moves for a given state\n",
    "def get_valid_moves(index):\n",
    "    moves = []\n",
    "    row, col = index // 3, index % 3\n",
    "    \n",
    "    if row > 0: moves.append(\"up\")\n",
    "    if row < 2: moves.append(\"down\")\n",
    "    if col > 0: moves.append(\"left\")\n",
    "    if col < 2: moves.append(\"right\")\n",
    "\n",
    "    return moves\n",
    "\n",
    "# generate new state by moving empty space\n",
    "def move(state, direction):\n",
    "    new_state = state[:]\n",
    "    empty_index = new_state.index(0)\n",
    "    move_index = empty_index + MOVES[direction]\n",
    "    \n",
    "    new_state[empty_index], new_state[move_index] = new_state[move_index], new_state[empty_index]\n",
    "    return new_state\n",
    "\n",
    "# Breadth-First Search (BFS) implementation\n",
    "def bfs(initial_state):\n",
    "    queue = deque([(initial_state, [])])  # (current_state, path_to_this_state)\n",
    "    visited = set()\n",
    "\n",
    "    while queue:\n",
    "        state, path = queue.popleft()\n",
    "\n",
    "        if state == goal_state:\n",
    "            return path  # return the sequence of moves to reach the goal\n",
    "        \n",
    "        empty_index = state.index(0)\n",
    "        valid_moves = get_valid_moves(empty_index)\n",
    "\n",
    "        for move_dir in valid_moves:\n",
    "            new_state = move(state, move_dir)\n",
    "            if tuple(new_state) not in visited:\n",
    "                visited.add(tuple(new_state))\n",
    "                queue.append((new_state, path + [move_dir]))\n",
    "\n",
    "    return None  # no solution found"
   ]
  },
  {
   "cell_type": "code",
   "execution_count": 3,
   "metadata": {},
   "outputs": [
    {
     "name": "stdout",
     "output_type": "stream",
     "text": [
      "Solution found! Moves: ['down', 'right']\n"
     ]
    }
   ],
   "source": [
    "# test the implementation\n",
    "initial_state = [1, 2, 3, 4, 0, 6, 7, 5, 8]\n",
    "solution = bfs(initial_state)\n",
    "\n",
    "if solution:\n",
    "    print(\"Solution found! Moves:\", solution)\n",
    "else:\n",
    "    print(\"No solution found.\")"
   ]
  },
  {
   "cell_type": "code",
   "execution_count": null,
   "metadata": {},
   "outputs": [],
   "source": []
  }
 ],
 "metadata": {
  "kernelspec": {
   "display_name": "Python 3",
   "language": "python",
   "name": "python3"
  },
  "language_info": {
   "codemirror_mode": {
    "name": "ipython",
    "version": 3
   },
   "file_extension": ".py",
   "mimetype": "text/x-python",
   "name": "python",
   "nbconvert_exporter": "python",
   "pygments_lexer": "ipython3",
   "version": "3.9.6"
  }
 },
 "nbformat": 4,
 "nbformat_minor": 2
}
